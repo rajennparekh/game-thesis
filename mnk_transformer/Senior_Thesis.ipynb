{
 "cells": [
  {
   "cell_type": "markdown",
   "id": "4bdf22ff",
   "metadata": {},
   "source": [
    "# Title to go here\n",
    "\n",
    "### Rajen Parekh and Prof. Yair Shenfeld"
   ]
  },
  {
   "cell_type": "markdown",
   "id": "40b12804",
   "metadata": {},
   "source": [
    "## 1. Environment Setup Instructions (macOS / Linux)\n",
    "\n",
    "Follow the instructions below to create a virtual environment, install required packages, and register the notebook kernel."
   ]
  },
  {
   "cell_type": "markdown",
   "id": "3fc5146b",
   "metadata": {},
   "source": [
    "Open a terminal and run the following commands:\n",
    "\n",
    "```bash\n",
    "cd /path to the mnk_transformer folder\n",
    "chmod +x setup.sh\n",
    "./setup.sh\n",
    "```\n",
    "\n",
    "This will set up a virtual enviroment to run the notebook in."
   ]
  },
  {
   "cell_type": "markdown",
   "id": "d5bb2804",
   "metadata": {},
   "source": [
    "\n",
    "After the script finishes...\n",
    "1. Reopen this notebook.\n",
    "2. In the top-right corner, click the kernel selector (symbol shown below).\n",
    "3. Choose the kernel named: `Python (TicTacToe)`\n",
    "\n",
    "<img src=\"inserted_images/kernel_button.png\" width=30>  ⬅️ Kernel Selector\n",
    "\n",
    "Then, run the cell below, and you’re ready to run and read through the notebook!"
   ]
  },
  {
   "cell_type": "code",
   "execution_count": 17,
   "id": "bfcfb25a",
   "metadata": {},
   "outputs": [],
   "source": [
    "from play_against_gpt import play_game\n",
    "from display_probe_results import launch_probe_accuracy_viewer\n",
    "from functions_for_thesis_display import display_random_training_run\n",
    "from setup import load_from_checkpoint\n",
    "model = load_from_checkpoint()"
   ]
  },
  {
   "cell_type": "markdown",
   "id": "99dad622",
   "metadata": {},
   "source": [
    "## 2. Introduction\n",
    "\n",
    "### Introduction to GPTs\n",
    "Describe what ChatGPT does, and why tic-tac-toe is an interesting toy model. Playing correct games is constructing grammatically correct sentences\n",
    "\n",
    "### Research Questions\n",
    "Mechanistic interpretability intro\n",
    "\n",
    "What interpretability techniques do we use?"
   ]
  },
  {
   "cell_type": "markdown",
   "id": "6674aa2e",
   "metadata": {},
   "source": [
    "## 3. Model Representation, Architecture, and Training\n",
    "\n",
    "This section is a more technical description of the model's architecture and training procedure.\n",
    "### Tokenization of games\n",
    "describe this\n",
    "\n",
    "### Architecture\n",
    "Use what I wrote last semester, with a standard description\n",
    "\n",
    "### Loss Function and Training\n",
    "Describe what the loss function is and how many training iterations, weights updated with backprop\n",
    "(1, 1, 12) was the most simple architecutre"
   ]
  },
  {
   "cell_type": "markdown",
   "id": "06d17e74",
   "metadata": {},
   "source": [
    "## 4. Answering our Research Questions\n",
    "\n",
    "### Model Success\n",
    "Does the model work? This wouldn't be much of a thesis if it didn't, but test it out below! Keep in mind, the model's goal is to play a legal move, not to play *well*, so you should be able to win pretty easily, but note how it plays by the rules! Click play on the cell below and interact with the buttons to play against the model! *How* does this model learn? Well, that's what we'll discuss in the rest of this document!"
   ]
  },
  {
   "cell_type": "code",
   "execution_count": 18,
   "id": "f6e085d2",
   "metadata": {},
   "outputs": [
    {
     "data": {
      "application/vnd.jupyter.widget-view+json": {
       "model_id": "80135f78bf9045598724769a9de65d22",
       "version_major": 2,
       "version_minor": 0
      },
      "text/plain": [
       "VBox(children=(ToggleButtons(description='Who starts:', options=('You go first', 'GPT goes first'), style=Togg…"
      ]
     },
     "metadata": {},
     "output_type": "display_data"
    }
   ],
   "source": [
    "play_game(model)"
   ]
  },
  {
   "cell_type": "markdown",
   "id": "b1073bc2",
   "metadata": {},
   "source": [
    "### Model Originality\n",
    "\n",
    "We've seen above that the trained model can successfully play a game of tic-tac-toe. But how does it do that? Might it just be memorizing the games we showed it as it trained, and repeating them back exactly? This would be bad, especially when we think about language models! What if ChatGPT could only regurgitate exact writing that it had seen before? These models are only useful if they can generate novel games (or text!), so we test this capability.\n",
    "\n",
    "To test the model's creativity, we train the model on 100,000 synthetically generated games of tic-tac-toe.<sup>[1]</sup> These games are created by randomly choosing a move for players until one player wins or the board is filled. After training, we have the model generate 1,000 games and measure how many of them appeared in the training set.\n",
    "\n",
    "$$\n",
    "\\text{Originality Score} = 1 - \\frac{\\text{\\# of generated games present in training dataset}}{\\text{total \\# of games generated}}\n",
    "$$\n",
    "\n",
    "There are 255,168 possible games of Tic-Tac-Toe, so we would expect originality scores around<sup>[2]</sup>\n",
    "\n",
    "$$\n",
    "\\frac{255,\\!168 - 100,\\!000}{255,\\!168} \\approx 60.8\\%\n",
    "$$"
   ]
  },
  {
   "cell_type": "markdown",
   "id": "67288b02",
   "metadata": {},
   "source": [
    "\n",
    "Across 100 training trials (61 of which learned to play successfully before 100k iterations, which we'll call the models that \"converged\" later on), the mean originality score was 58.1%. So, the model is able to generate unseen game sequences at approximately the rate we'd expect.<sup>[3]</sup> It is not memorizing, but instead seems to be learning the rules of the game and generating games it has never seen before! We'll explore how it does that in the following section...\n",
    "\n",
    "<p><sup>[1]</sup> <small><em>The model architecture is detailed in the appendix. These models were trained with 1 transformer layer, 1 attention head, and a 12-dimensional embedding.</em></small></p>\n",
    "\n",
    "<p><sup>[2]</sup> <small><em>We would actually expect an originality score slightly higher than 60.8%, because the synthetic games are randomly generated, and can include overlapping games. A dataset with 100,000 elements is highly unlikely to have 100,000 distinct elements, but this is an expected floor for our originality score.</em></small></p>\n",
    "\n",
    "<p><sup>[3]</sup> <small><em>This value is slightly smaller than the rate we'd expect! I think this is happening because some of the 255,168 games are more likely to occur when creating the synthetic dataset. For example, to match a short game when P1 wins quickly, only five moves need to match, but to match a long game, nine moves need to match. This means the short games are more likely to be generated synthetically (and be in our training data), and are more likely to be generated by any model that selects between moves randomly. This should drive originality scores down!</em></small></p>\n"
   ]
  },
  {
   "cell_type": "markdown",
   "id": "02d7b865",
   "metadata": {},
   "source": [
    "### Learning the Rules of the Game\n",
    "What are the rules of tic-tac-toe? Without thinking about any strategy, we can define two things a player needs to do in order to play by the rules:\n",
    "\n",
    "1. Pick a space that neither player has played in before to place their token. A space can't be occupied by multiple tokens, and if a player tries to play on top of another token, a mistake has been made!\n",
    "\n",
    "2. Identify when the game is over and somebody has won. If the game is over and a player tries to play, or the game is not over and a player states that it is, a mistake has been made!\n",
    "\n",
    "**Keep these rules in mind!** They'll be very important for the rest of this document!\n",
    "\n",
    "Let's take a closer look at the 62 training trials that learned to play successfully to see how these models might be learning the two rules stated above! Plotted below is the validation loss by iteration for each of the trials.<sup>[1]</sup> The graph is a little messy since there are so many trials shown, but run the next cell and take a look and see if you notice a trend!\n",
    "\n",
    "<p><sup>[1]</sup> <small><em>We use categorical cross-entropy loss. The calculation of this loss is defined in the model architecture and training section.</em></small></p>\n",
    "\n",
    "<img src=\"inserted_images/converging_runs.png\" width=1000>"
   ]
  },
  {
   "cell_type": "markdown",
   "id": "ae800639",
   "metadata": {},
   "source": [
    "Notice how many trials stall with a validation loss between 1.36 and 1.37? In fact, >70% of the runs that converge exhibit this stalling behavior for at least 5,000 iterations. Let's take a closer look at them and see what's going on!\n",
    "\n",
    "We'll define two new statistics to measure how well a model understands the rules...\n",
    "1. Invalid Move Rate: This measures how often the model generates a move that has been previously played in the game sequence. It is computed over all generated games (rather than all generated moves), so if a game has any invalid move, it counted towards the invalid rate. It is calculated as follows:\n",
    "\n",
    "$$\n",
    "\\text{Invalid Move Rate} = \\frac{\\text{\\# of generated games with an occupied space generated}}{\\text{Total \\# of generated games}}\n",
    "$$\n",
    "\n",
    "2. Correct Ending Rate: This measures how often the model predicts that the padding token will be the next token when given a game with a winner. In the training data, whenever a game ends before 9 moves (meaning a player has won before the board is full), the game sequence contains padding tokens to preserve the full sequence length. Once a model learns Rule 2, it should always predict the padding token when given a completed game to mirror this pattern in the training data.<sup>[1]</sup> It is calculated as follows:\n",
    "\n",
    "$$\n",
    "\\text{Correct Ending Rate} = \\frac{\\text{\\# of correct padding predictions after a win}}{\\text{\\# of generated games resulting in either player winning}}\n",
    "$$\n",
    "\n",
    "Run the cell below to randomly select one of the trials that exhibited this stalling behavior. Notice the pattern between the validation loss (rescaled to fit on the same axes), the invalid move rate, and the correct ending rate.\n",
    "\n",
    "<p><sup>[1]</sup> <small><em>I actually made a small mistake while running tests, and only tested identifying the padding token on non-full boards (games that ended in 8 moves or less). I didn't have time to fully re-run the experiments, but from a few trials to confirm that performance was the same, I saw no difference in results. </em></small></p>"
   ]
  },
  {
   "cell_type": "code",
   "execution_count": 19,
   "id": "8a190cd8",
   "metadata": {},
   "outputs": [
    {
     "data": {
      "image/png": "[encoded data removed]",
      "text/plain": [
       "<Figure size 1000x600 with 1 Axes>"
      ]
     },
     "metadata": {},
     "output_type": "display_data"
    }
   ],
   "source": [
    "display_random_training_run()"
   ]
  },
  {
   "cell_type": "markdown",
   "id": "fd6c3de7",
   "metadata": {},
   "source": [
    "The first thing to note is that, in all of these trials, the correct ending rate approaches 1 and the invalid move rate approaches 0 by the end of training. This means that by the end of training, the model successfully learns the rules of tic-tac-toe! It can avoid playing in occupied spaces and identifies when the game has been won.\n",
    "\n",
    "Next, observe that the validation loss drops in two stages. During the first one, the invalid move rate drops nearly to 0, but the correct ending rate stagnates and/or fluctuates randomly, showing no improvement. Then, during the second drop, the invalid move rate increases slightly while the correct ending rate drastically increases. As training finishes, the correct ending rate gets even higher, and the invalid move rate slowly decreases back towards 0. This trend holds for all of the trials that stall with a loss between 1.36 and 1.37 for at least 5,000 iterations. Keep hitting play on the cell above to randomly select more trials and confirm this trend.\n",
    "\n",
    "Clearly, the model seems to be learning the two rules of tic-tac-toe separately, first learning to play in unoccupied spaces and next learning to identify winners, but what is going on internally when this happens? *How* does this learning occur?"
   ]
  },
  {
   "cell_type": "markdown",
   "id": "60a3e018",
   "metadata": {},
   "source": [
    "### Internal Game Representation\n",
    "\n",
    "#### Background Work\n",
    "A [research team from Harvard, MIT, and Northeastern](https://arxiv.org/abs/2210.13382) created a model called OthelloGPT, which was a GPT trained to generate games of Othello, another simple board game. Like our tic-tac-toe GPT, it was able to generate valid moves with very few errors. This team's central question was whether OthelloGPT had learned an internal representation of the game state without knowledge of the rules of the game.\n",
    "\n",
    "To study this, they introduced *probes*:classifiers trained to predict the state of each space on the board (empty, Player 1, or Player 2) from the model’s internal activations after being given a sequence of moves. For each layer, they created a dataset by pairing the activations at that layer with the board state implied by the input sequence that produced them. This allowed them to evaluate what information about the board was encoded at different depths of the model.\n",
    "\n",
    "They compared probes trained on a randomly initialized model with probes trained on a fully trained model. On the untrained model, both linear and nonlinear probes performed poorly, showing that the probes themselves were not powerful enough to extract board state from random transformations of the input sequence. On the trained model, however, a nonlinear probe was able to recover the full board state with up to 98% accuracy. This is notable because it shows that during training, OthelloGPT developed an internal representation of the game state, *even though it was never explicitly told the rules of the game, and was only asked to predict the next move*. The linear probe, by contrast, still struggled, performing only slightly better on the trained model than on the untrained model. This suggests that the learned representation was  nonlinear and not directly accessible with a simple linear decoder.\n",
    "\n",
    "However, [Neel Nanda](https://www.neelnanda.io/mechanistic-interpretability/othello) further investigated the internal game representation of OthelloGPT. Instead of training the probe to classify a space as Player 1/Player 2/Empty, he modified the task to classify a space as \"Mine\"/\"Opponent's\"/Empty. With this modified task, he found that a linear probe was able to reconstruct the board state! \n",
    "\n",
    "Here's what this other looks like for tic-tac-toe...\n",
    "Say we have input sequence [9, 2, 5, 3, 4, 0]. Recall from the model architecture section that 9 is the start token, and the remaining tokens indicate where Player 1 and Player 2 place their alternating moves. In a Player 1/Player 2 representation, the board unsurprisingly looks as follows:\n",
    "\n",
    "<img src=\"inserted_images/p1_p2_board.png\" width=250>\n",
    "\n",
    "But, in a \"Mine\"/\"Opponent's\" system, the current player is Player 2! So Player 2's tokens are counted as \"Mine\" and Player 1's are counted as \"Other\":\n",
    "\n",
    "<img src=\"inserted_images/me_opp_board.png\" width=250>\n",
    "\n",
    "Now, observe what happens when we add another move to the game, making our input sequence [9, 2, 5, 3, 4, 0, 7]. The original moves on the P1/P2 board are unchanged:\n",
    "\n",
    "<img src=\"inserted_images/p1_p2_board_update.png\" width=250>\n",
    "\n",
    "But, the original moves on the Mine/Opponent's board have flipped, because the current player is now Player 1!\n",
    "\n",
    "<img src=\"inserted_images/me_opp_board_update.png\" width=250>\n",
    "\n",
    "We'll use this modified task later on!"
   ]
  },
  {
   "cell_type": "markdown",
   "id": "50596c30",
   "metadata": {},
   "source": [
    "\n",
    "#### Our Questions\n",
    "Based on these two studies of OthelloGPT, we attempt to apply a version of probing to our model. Our main goal is to understand more about two-stage learning the model exhibits, and to do so, we ask three questions:\n",
    "1. Does our model learn an internal representation of the board state, like OthelloGPT?\n",
    "2. Is this representation linear or nonlinear?\n",
    "3. How does the internal representation change when the model is at different stages of the training process? And specifically, what happens when validation loss first reaches the 1.36-1.37 range, and what happens when it leaves that range?\n",
    "\n",
    "#### Different Tasks to Test\n",
    "To learn more about our model's behavior, we define four tasks to test our probe on. Tasks 1 and 2 directly mirror Rule 1 and Rule 2 of tic-tac-toe, which we defined above. Tasks 3 and 4 relate to the identity of the player occupying each space and allow us to directly compare the classification tasks of the original Othello paper and Nanda's update. Together, these tasks let us examine different aspects of the model’s internal understanding of the game. The tasks are defined below:\n",
    "\n",
    "1. What spaces are occupied?\n",
    "2. Has the game been won?\n",
    "3. Which player has played in each space, using Player 1's vs Player 2's space\n",
    "4. Which player has played in each space, using \"My\" vs \"Opponent's\" space\n"
   ]
  },
  {
   "cell_type": "markdown",
   "id": "28b855aa",
   "metadata": {},
   "source": [
    "#### Different Probe Architectures\n",
    "We also want to be sure that if there are differences in performance between linear and nonlinear probes, this difference is due to the nonlinearity of the internal representation, not just that nonlinear probes have more parameters and are more powerful. <sup>[1]</sup> In order to test this, we use three probes: a linear probe, a small MLP, and a large MLP. The number of parameters for each model and task are shown in the table below:<sup>[2]</sup>\n",
    "\n",
    "|              | Task 1 | Task 2 | Task 3 | Task 4 |\n",
    "|--------------|--------|--------|--------|--------|\n",
    "| Linear       |    351    |    26    |   351     |     351   |\n",
    "| Small MLP    |   507     |     182   |    507    |   507     |\n",
    "| Large MLP    |   1403     |    978    |   1403     |    1403    |\n",
    "\n",
    "For most tasks, the small MLP is closer in number of parameters to the linear model than it is to the large MLP. This means that if we see a large performance gap between the linear model and the small MLP, but a small performance gap between the small MLP and the large MLP, we can probably attribute the difference to an inherently nonlinear representation, not a more complex probe. \n",
    "\n",
    "<p><sup>[1]</sup> <small><em>The size of the linear vs. nonlinear probes is actually not mentioned in the original Othello paper, so this is especially important to test! </em></small></p>\n",
    "\n",
    "<p><sup>[2]</sup> <small><em>Exact probe architecture is detailed in the appendix. </em></small></p>\n"
   ]
  },
  {
   "cell_type": "markdown",
   "id": "c854a60e",
   "metadata": {},
   "source": [
    "\n",
    "#### Results Part 1: Internal Representation Existence and Linearity\n",
    "In order to train the probes on activation-board pairs, we need to train a GPT to generate these pairs. The training run for the GPT used to generate probing data is displayed below.<sup>[1]</sup> Circled locations are where checkpoints were taken. From left to right Checkpoint 1 is an untrained and randomly initialized model, Checkpoint 2 is the model when validation loss first reaches 1.37, Checkpoint 3 is the model when validation loss first reaches 1.36, and Checkpoint 4 is the model after 100,000 iterations.\n",
    "\n",
    "<p><sup>[1]</sup> <small><em>As a reminder, these models have 12 embeddings, 1 attention head, and 1 transformer layer. </em></small></p>\n",
    "\n",
    "<img src=\"inserted_images/checkpoint_locs.png\" width=500>\n",
    "\n",
    "To generate data, we begin by loading the trained GPT model at each of the four checkpoints. We use a dataset consisting of full tic-tac-toe games, each encoded as a sequence of tokens as discussed in the Model Representation section [TODO: WRITE THIS]. These sequences represent complete games, but we do not feed the entire sequence to the model all at once. Instead, for each game, we create a series of 10 truncated input sequences: the first contains only the start token, the second contains the start token followed by the first move, the third includes the first two moves, and so on, up to the full sequence of 10 tokens. This results in 10 distinct input sequences per game, each representing a partial progression of the game state.\n",
    "\n",
    "Each of these input sequences is fed through the model, and we extract the corresponding internal activations after each layer of the model: (1) the embedding layer, (2) the  transformer block, and (3) the final MLP layer. These activations constitute the input features used to train the probing models.\n",
    "\n",
    "The corresponding ground truth labels are derived directly from the input sequences by decoding the tokenized moves to reconstruct the board state at that point in the game. Depending on the specific probing task, the label is either (a) a classification for each of the 9 spaces on the board (e.g., predicting whether a space is X, O, or empty), or (b) a binary label indicating whether the board has a winner. This procedure is repeated independently for each checkpoint, enabling us to compare how the internal representations evolve over the course of training.\n",
    "\n",
    "Once the probing data is generated, we are left with a distinct dataset for each combination of checkpoint and layer... one for the embedding layer, one for the first transformer block, and one for the final activation layer, at each of the four checkpoints. Each of these datasets is split into a training set of 100,000 examples and a validation set of 20,000 examples. We train a separate probe on the training portion of each dataset and evaluate it on the corresponding validation set. For Task 1, Task 3, and Task 4, we compute space accuracy, defined as the percentage of individual board spaces the probe correctly classifies. For Task 2, we compute board-level accuracy, which measures how often the probe correctly determines whether or not the board contains a winner.\n",
    "\n",
    "Results of this experiment are shown in tables below. In this section, we'll focus on whether there is an internal representation, whether it is linear, and where within the model this representation is learned. The results compare four probes: a linear, a small MLP, and a large MLP using data from Checkpoint 4 (when the model has fully trained) and a large MLP using data from Checkpoint 1. Because Checkpoint 1 is a randomly initialized model, this large MLP serves as a baseline of how well the most powerful probe can do using activations from an untrained model. We can compare the other three probes trained on Checkpoint 4 data to this baseline to understand how much the GPT's internal representation improves during training."
   ]
  },
  {
   "cell_type": "markdown",
   "id": "b5ddd5f8",
   "metadata": {},
   "source": [
    "\n",
    "##### Task 1: What spaces are occupied?\n",
    "\n",
    "| Probe Type                | Layer 1 | Layer 2 | Layer 3 |\n",
    "|----------------------|---------|---------|---------|\n",
    "| Linear               | 0.774   | 0.936   | 0.943   |\n",
    "| Small MLP            | 0.788   | 0.953   | 0.973   |\n",
    "| Large MLP            | 0.788   | 0.977   | 0.988   |\n",
    "| Large MLP (Baseline)| 0.760   | 0.764   | 0.829   |\n",
    "\n",
    "**1. Is there an internal representation?**  \n",
    "Yes! By Layer 3, all three probes trained on Checkpoint 4 greatly outperform the baseline probe. This suggests the GPT learns an internal representation of space occupancy.\n",
    "\n",
    "**2. Where is this representation learned?**  \n",
    "It seems to be mostly learned by Layer 2, the transformer layer. This is where we see probe accuracy spike.\n",
    "\n",
    "**3. Is this representation linear?**  \n",
    "Likely! The linear probe is able to make predictions that are nearly as accurate as either of the MLP probes. The nonlinear probes do slightly outperform the linear probe, so there might be some nonlinearity in the representation.\n",
    " \n"
   ]
  },
  {
   "cell_type": "markdown",
   "id": "4a1033c9",
   "metadata": {},
   "source": [
    "\n",
    "##### Task 2: Has the game been won?\n",
    "\n",
    "| Probe Type                 | Layer 1 | Layer 2 | Layer 3 |\n",
    "|----------------------|---------|---------|---------|\n",
    "| Linear               | 0.924   | 0.919   | 0.954   |\n",
    "| Small MLP            | 0.925   | 0.986   | 0.986   |\n",
    "| Large MLP            | 0.922   | 0.987   | 0.988   |\n",
    "| Large MLP (Baseline)| 0.912   | 0.922   | 0.924   |\n",
    "\n",
    "**1. Is there an internal representation?**  \n",
    "Yes! By Layer 3, all three probes trained on Checkpoint 4 greatly outperform the baseline probe. This suggests the GPT learns an internal representation of whether the game has been won.\n",
    "\n",
    "**2. Where is this representation learned?**  \n",
    "The MLP probes learn this representation by Layer 2, the transformer layer. However, the linear probe only achieves accuracy above baseline at Layer 3, the GPT's MLP layer.\n",
    "\n",
    "**3. Is this representation linear?**  \n",
    "Somewhat! The MLP probes perform similarly to each other, and far outperform the linear probe, but the linear probe does substantially outperform the baselie probe. The fact that the MLP probes learn the internal represenation before Layer 3, while the linear probe does not, suggests that the GPT's MLP layer removes some, but not all, of the nonlinearity of the representation.\n"
   ]
  },
  {
   "cell_type": "markdown",
   "id": "83f1a622",
   "metadata": {},
   "source": [
    "\n",
    "\n",
    "##### Task 3: Which player has played in each space? (P1 vs P2)\n",
    "| Probe Type                | Layer 1 | Layer 2 | Layer 3 |\n",
    "|----------------------|---------|---------|---------|\n",
    "| Linear               | 0.609   | 0.729   | 0.732   |\n",
    "| Small MLP            | 0.620   | 0.783   | 0.778   |\n",
    "| Large MLP            | 0.665   | 0.796   | 0.798   |\n",
    "| Large MLP (Baseline)| 0.663   | 0.674   | 0.698   |\n",
    "\n",
    "**1. Is there an internal representation?**  \n",
    "Yes! By Layer 3, both MLP probes trained on Checkpoint 4 greatly outperform the baseline probe, and the linear probe slightly outperforms baseline. This suggests the GPT learns an internal representation of space occupancy from a P1-P2 perspective.\n",
    "\n",
    "**2. Where is this representation learned?**  \n",
    "All three probes learn this representation by Layer 2, the transformer layer. Layer 3 does not further increase probe accuracy.\n",
    "\n",
    "**3. Is this representation linear?**  \n",
    "No! The MLP probes perform similarly to each other, and far outperform the linear probe. The linear probe does perform better than baseline, but not substantially so.\n",
    "\n"
   ]
  },
  {
   "cell_type": "markdown",
   "id": "58ab4559",
   "metadata": {},
   "source": [
    "\n",
    "##### Task 4: Which player has played in each space? (Mine vs Opponent)\n",
    "\n",
    "| Probe Type            | Layer 1 | Layer 2 | Layer 3 |\n",
    "|----------------------|---------|---------|---------|\n",
    "| Linear               | 0.642   | 0.768   | 0.833   |\n",
    "| Small MLP            | 0.668   | 0.877   | 0.871   |\n",
    "| Large MLP            | 0.670   | 0.900   | 0.901   |\n",
    "| Large MLP (Baseline)| 0.667   | 0.637   | 0.697   |\n",
    "\n",
    "**1. Is there an internal representation?**  \n",
    "Yes! By Layer 3, all three probes trained on Checkpoint 4 greatly outperform the baseline probe. This suggests the GPT learns an internal representation of space occupancy from a mine-yours perspective.\n",
    "\n",
    "**2. Where is this representation learned?**  \n",
    "The MLP probes learn this representation by Layer 2, the transformer layer. The linear probe achieves accuracy over baseline by Layer 2, but is substantially more accurate after Layer 3.\n",
    "\n",
    "**3. Is this representation linear?**  \n",
    "Somewhat! The MLP probes perform similarly to each other, and far outperform the linear probe. The linear model does, however, perform substantially better than baseline. The increase in the linear probe's performacne between Layer 2 and Layer 3 suggests that the GPT's MLP layer removes some nonlinearity from its internal representation.\n"
   ]
  },
  {
   "cell_type": "markdown",
   "id": "7ac01439",
   "metadata": {},
   "source": [
    "##### Overall summary\n",
    "The success of the probes suggests the GPT model develops internal representations for each task, even though it was not explicitly trained to do so. These representations are largely formed in the transformer layer (Layer 2), with the MLP layer (Layer 3) often refining them and making them more accessible to linear probes. In Tasks 1, 3, and 4, we see a noticeable spike in accuracy for all probe types at Layer 2, indicating that the transformer layer encodes information relevant to these internal representations. In Tasks 2 and 4, the MLP layer further boosts linear probe performance, suggesting that it helps transform these nonlinear representations that the transformer produces into a more linearly decodable form. \n",
    "\n",
    "While linear probes consistently outperform the baseline, they are typically outperformed by both the small and large MLP probes. This pattern, observed across all tasks, suggests that the internal representations are only partially linear.\n",
    "\n",
    "Tasks 3 and 4 mirror the tasks tested by the OthelloGPT team (Task 3) and Nanda (Task 4). Consistent with Nanda's work, all probe types perform better on the \"mine\" vs \"opponent\" task than on the \"P1 vs P2\" task. This supports the idea that the model interprets and represents the board from the perspective of the *current player*. However, our results diverge from Nanda’s in a key way: while Nanda concluded that Task 4 could be fully represented with a linear probe, we find that the nonlinear probes still substantially outperform the linear probe in this setting. This indicates that the GPT's internal representation of the \"mine\" vs \"opponent\" task is still meaningfully nonlinear. This result aligns more closely with conclusions from the OthelloGPT team, who found that nonlinear probes are needed to access the model’s internal board state representations."
   ]
  },
  {
   "cell_type": "markdown",
   "id": "42c8f67d",
   "metadata": {},
   "source": [
    "\n",
    "#### Results Part 2: Changes in Internal Representation During Training\n",
    "Now that we know that the GPT eventually learns an internal represenation of the game state, we'll explore how this representation develops as the model trains. Recall the two rules we defined for tic-tac-toe. In particular, we observed that the GPT first learns to not play in occupied spaces (Rule 1) at Checkpoint 2, and later learns to correctly identify the end of games (Rule 2) at Checkpoint 3. Is this because it has different internal representations at these checkpoints? How do the internal represenations change during training?\n",
    "\n",
    "We test this by comparing the performance of each probe type (Linear, Small MLP, Large MLP) on our four tasks across checkpoints. Task 1 explicitly tests model understanding of Rule 1 and Task 2 explicity tests model understanding of Rule 2. Task 3 and 4 involve understanding and representing the entire board state, so they require an understanding of Rule 1 and Rule 2.\n",
    "\n",
    "Presented below are accuracies of probes trained on each checkpoint after the Layer 3 of the GPT. We'll discuss the results below the tables.\n",
    "\n",
    "##### Linear Probe\n",
    "\n",
    "| Task     | Checkpoint 1 | Checkpoint 2 | Checkpoint 3 | Checkpoint 4 |\n",
    "|----------|--------------|--------------|--------------|--------------|\n",
    "| Task 1   | 0.642        | 0.768        | 0.833        | 0.xxx        |\n",
    "| Task 2   | 0.668        | 0.877        | 0.871        | 0.xxx        |\n",
    "| Task 3   | 0.670        | 0.900        | 0.901        | 0.xxx        |\n",
    "| Task 4   | 0.667        | 0.637        | 0.697        | 0.xxx        |\n",
    "\n",
    "##### Small MLP Probe\n",
    "\n",
    "| Task     | Checkpoint 1 | Checkpoint 2 | Checkpoint 3 | Checkpoint 4 |\n",
    "|----------|--------------|--------------|--------------|--------------|\n",
    "| Task 1   | 0.642        | 0.768        | 0.833        | 0.xxx        |\n",
    "| Task 2   | 0.668        | 0.877        | 0.871        | 0.xxx        |\n",
    "| Task 3   | 0.670        | 0.900        | 0.901        | 0.xxx        |\n",
    "| Task 4   | 0.667        | 0.637        | 0.697        | 0.xxx        |\n",
    "\n",
    "##### Large MLP Probe\n",
    "\n",
    "| Task     | Checkpoint 1 | Checkpoint 2 | Checkpoint 3 | Checkpoint 4 |\n",
    "|----------|--------------|--------------|--------------|--------------|\n",
    "| Task 1   | 0.642        | 0.768        | 0.833        | 0.xxx        |\n",
    "| Task 2   | 0.668        | 0.877        | 0.871        | 0.xxx        |\n",
    "| Task 3   | 0.670        | 0.900        | 0.901        | 0.xxx        |\n",
    "| Task 4   | 0.667        | 0.637        | 0.697        | 0.xxx        |\n",
    "\n",
    "\n",
    "<img src=\"inserted_images/accuracy_by_checkpoint.png\" width=1000>\n",
    "\n",
    "Things to discuss...\n",
    "1. How to use the function below so the viewer can look at it\n",
    "2. Look at how there's a big change between checkpoint 2 and 3 for tasks 2, 3, 4. This is where the model starts to learn Rule 2. there's also a slight drop in performance for task 1 \n",
    "\n",
    "##### Overall summary\n",
    "The internal representation chenges"
   ]
  },
  {
   "cell_type": "code",
   "execution_count": 20,
   "id": "f9791185",
   "metadata": {},
   "outputs": [
    {
     "data": {
      "application/vnd.jupyter.widget-view+json": {
       "model_id": "cdec6d96c5614b58a34d1d22a6f52d8b",
       "version_major": 2,
       "version_minor": 0
      },
      "text/plain": [
       "VBox(children=(Dropdown(description='X-axis:', options=('Layer', 'Checkpoint', 'Task'), value='Layer'), Output…"
      ]
     },
     "metadata": {},
     "output_type": "display_data"
    }
   ],
   "source": [
    "launch_probe_accuracy_viewer()"
   ]
  },
  {
   "cell_type": "markdown",
   "id": "3ea11c46",
   "metadata": {},
   "source": [
    "\n",
    "#### Change in Number of Heads\n",
    "Present results from the two-headed model. Instead of learning staggered, it learns simultaneously. Could each head be focusing on one of the rules?\n",
    "\n",
    "<img src=\"inserted_images/probing_trial_2h.png\" width=500> \n",
    "\n",
    "\n",
    "Discuss...\n",
    "1. This model training is smooth, not staggered. Show other train trials with this architecture and note how many of them would qualify as staggered by our first definition\n",
    "2. display results and show not a large jump between ckpt 2 and 3, instead sustained learning\n",
    "3. Propose that the different attention heads might be learning different tasks"
   ]
  },
  {
   "cell_type": "markdown",
   "id": "0ce09b24",
   "metadata": {},
   "source": [
    "## 5. Conclusion\n",
    "\n",
    "### Summary of Findings\n",
    "\n",
    "### Future Work\n"
   ]
  },
  {
   "cell_type": "markdown",
   "id": "f1905b69",
   "metadata": {},
   "source": [
    "## 6. Appendix\n",
    "\n",
    "### Parameter Allocation\n",
    "Describe results we found\n",
    "\n",
    "### Mechanistic Interpretability Lit Review\n",
    "Todo"
   ]
  },
  {
   "cell_type": "code",
   "execution_count": 21,
   "id": "3d6d9d96",
   "metadata": {},
   "outputs": [
    {
     "name": "stdout",
     "output_type": "stream",
     "text": [
      "❌ Folder not found: ../inserted_images\n"
     ]
    }
   ],
   "source": [
    "# How to display images, this will be removed for final version\n",
    "\n",
    "import os\n",
    "from IPython.display import Image, display\n",
    "\n",
    "image_dir = \"../inserted_images\"\n",
    "\n",
    "if os.path.exists(image_dir):\n",
    "    print(f\"✅ Found folder: {image_dir}\")\n",
    "    files = os.listdir(image_dir)\n",
    "    image_files = [f for f in files if f.lower().endswith((\".png\", \".jpg\", \".jpeg\", \".gif\"))]\n",
    "\n",
    "    if not image_files:\n",
    "        print(\"⚠️ No image files found in the folder.\")\n",
    "    else:\n",
    "        for fname in image_files:\n",
    "            fpath = os.path.join(image_dir, fname)\n",
    "            print(f\"🖼️ Displaying: {fname}\")\n",
    "            display(Image(filename=fpath))\n",
    "else:\n",
    "    print(f\"❌ Folder not found: {image_dir}\")\n"
   ]
  }
 ],
 "metadata": {
  "kernelspec": {
   "display_name": "Python 3",
   "language": "python",
   "name": "python3"
  },
  "language_info": {
   "codemirror_mode": {
    "name": "ipython",
    "version": 3
   },
   "file_extension": ".py",
   "mimetype": "text/x-python",
   "name": "python",
   "nbconvert_exporter": "python",
   "pygments_lexer": "ipython3",
   "version": "3.12.5"
  }
 },
 "nbformat": 4,
 "nbformat_minor": 5
}
