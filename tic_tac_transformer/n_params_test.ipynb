{
 "cells": [
  {
   "cell_type": "code",
   "execution_count": 18,
   "metadata": {},
   "outputs": [],
   "source": [
    "b = 10 # block size\n",
    "v = 11 # vocab size\n",
    "l = 1 # num layer\n",
    "h = 1 # num head\n",
    "e = 12 # num embeds\n",
    "m = 4 # MLP layer mult"
   ]
  },
  {
   "cell_type": "code",
   "execution_count": 19,
   "metadata": {},
   "outputs": [],
   "source": [
    "def get_num_params(b, v, l, h, e, m, exclude=True):\n",
    "    sum = 0\n",
    "    if not exclude: # These will always be excluded\n",
    "        sum = sum + v * e # Word token embedding\n",
    "        sum = sum + b * e # Word position embedding\n",
    "    for _ in range(l): # For each layer...\n",
    "        sum = sum + e # LayerNorm\n",
    "        sum = sum + 3 * e * e # SelfAttention weight matrix\n",
    "        sum = sum + e * e # SelfAttention c_proj matrix\n",
    "        sum = sum + e # LayerNorm\n",
    "        sum = sum + e * m * e # MLP weights\n",
    "        sum = sum + m * e * e # MLP weights\n",
    "    sum = sum + e # LayerNorm\n",
    "    sum = sum + e * v # Linear layer\n",
    "    return sum"
   ]
  },
  {
   "cell_type": "code",
   "execution_count": 20,
   "metadata": {},
   "outputs": [
    {
     "data": {
      "text/plain": [
       "1896"
      ]
     },
     "execution_count": 20,
     "metadata": {},
     "output_type": "execute_result"
    }
   ],
   "source": [
    "get_num_params(b, v, l, h, e, m,)"
   ]
  },
  {
   "cell_type": "code",
   "execution_count": 21,
   "metadata": {},
   "outputs": [
    {
     "data": {
      "text/plain": [
       "960"
      ]
     },
     "execution_count": 21,
     "metadata": {},
     "output_type": "execute_result"
    }
   ],
   "source": [
    "get_num_params(b, v, 2, 1, 6, 4)"
   ]
  },
  {
   "cell_type": "code",
   "execution_count": 33,
   "metadata": {},
   "outputs": [
    {
     "data": {
      "text/plain": [
       "1404"
      ]
     },
     "execution_count": 33,
     "metadata": {},
     "output_type": "execute_result"
    }
   ],
   "source": [
    "l, h, e = (3, 1, 6)\n",
    "get_num_params(b, v, l, h, e, m)"
   ]
  },
  {
   "cell_type": "code",
   "execution_count": null,
   "metadata": {},
   "outputs": [],
   "source": []
  }
 ],
 "metadata": {
  "kernelspec": {
   "display_name": "Python 3",
   "language": "python",
   "name": "python3"
  },
  "language_info": {
   "codemirror_mode": {
    "name": "ipython",
    "version": 3
   },
   "file_extension": ".py",
   "mimetype": "text/x-python",
   "name": "python",
   "nbconvert_exporter": "python",
   "pygments_lexer": "ipython3",
   "version": "3.12.5"
  }
 },
 "nbformat": 4,
 "nbformat_minor": 2
}
