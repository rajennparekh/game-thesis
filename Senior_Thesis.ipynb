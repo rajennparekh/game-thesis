{
 "cells": [
  {
   "cell_type": "markdown",
   "id": "4bdf22ff",
   "metadata": {},
   "source": [
    "# Tic Tac GPT: Understanding a Transformer Trained on Tic Tac Toe"
   ]
  },
  {
   "cell_type": "markdown",
   "id": "99dad622",
   "metadata": {},
   "source": [
    "## Introduction\n",
    "\n",
    "### How do we think about GPTs?\n",
    "Your writing will be here.\n",
    "\n",
    "### What are my research questions?\n",
    "Your writing will be here.\n",
    "\n",
    "### What concrete questions will we ask?\n",
    "Your writing will be here."
   ]
  },
  {
   "cell_type": "markdown",
   "id": "b1073bc2",
   "metadata": {},
   "source": [
    "## Model Memorization vs Originality\n",
    "\n",
    "Your writing will be here.\n",
    "\n",
    "$$\n",
    "\\text{Originality Score} = 1 - \\frac{\\text{\\# of seen boards}}{\\text{total boards evaluated}}\n",
    "$$"
   ]
  },
  {
   "cell_type": "markdown",
   "id": "02d7b865",
   "metadata": {},
   "source": [
    "## Learning the Rules of the Game\n",
    "\n",
    "This section explores how the GPT model begins to pick up on the fundamental rules of tic tac toe through exposure to examples. We aim to understand whether the model is learning strategies or simply memorizing board states."
   ]
  },
  {
   "cell_type": "code",
   "execution_count": null,
   "id": "6356ca1a",
   "metadata": {},
   "outputs": [],
   "source": [
    "# A very simple example computation\n",
    "1 + 1"
   ]
  },
  {
   "cell_type": "markdown",
   "id": "60a3e018",
   "metadata": {},
   "source": [
    "## Internal Representation of the Game\n",
    "\n",
    "### Different Tasks to Test\n",
    "Your writing will be here.\n",
    "\n",
    "### Linear vs. Nonlinear\n",
    "Your writing will be here.\n",
    "\n",
    "$$\n",
    "\\hat{y} = \\sigma(Wx + b)\n",
    "$$\n",
    "\n",
    "### Change in Number of Heads\n",
    "Your writing will be here."
   ]
  },
  {
   "cell_type": "markdown",
   "id": "0ce09b24",
   "metadata": {},
   "source": [
    "## Conclusion\n",
    "\n",
    "### Summary of Findings\n",
    "Your writing will be here.\n",
    "\n",
    "### Future Work\n",
    "Your writing will be here."
   ]
  },
  {
   "cell_type": "markdown",
   "id": "f1905b69",
   "metadata": {},
   "source": [
    "## Appendix\n",
    "\n",
    "### Parameter Allocation\n",
    "Your writing will be here.\n",
    "\n",
    "### Math of GPT\n",
    "\n",
    "$$\n",
    "\\text{Attention}(Q, K, V) = \\text{softmax}\\left( \\frac{QK^T}{\\sqrt{d_k}} \\right)V\n",
    "$$\n",
    "\n",
    "### Mechanistic Interpretability Lit Review\n",
    "Your writing will be here."
   ]
  }
 ],
 "metadata": {},
 "nbformat": 4,
 "nbformat_minor": 5
}
